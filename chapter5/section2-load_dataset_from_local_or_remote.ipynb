{
 "cells": [
  {
   "cell_type": "markdown",
   "metadata": {},
   "source": [
    "# 从datasets库加载本地/远程服务器上的数据集\n",
    "\n",
    "本笔记的内容参考自：[5.2: What if my dataset isn’t on the Hub?](https://huggingface.co/learn/llm-course/en/chapter5/2?fw=pt)"
   ]
  },
  {
   "cell_type": "markdown",
   "metadata": {},
   "source": [
    "如果我们需要用到的数据集不在HuggingFace Hub上面，我们可以加载本地笔记本/PC上的文件，也可以加载远程服务器上的。这三种加载数据的方式，都可以通过调用`datasets.load_dataset`函数来实现。"
   ]
  },
  {
   "cell_type": "code",
   "execution_count": 1,
   "metadata": {},
   "outputs": [],
   "source": [
    "from datasets import load_dataset"
   ]
  },
  {
   "cell_type": "markdown",
   "metadata": {},
   "source": [
    "\n",
    "接着，我们先来复习一下加载HuggingFace Hub上面的数据集，然后介绍一下加载远程服务器的，最后是加载本地的。"
   ]
  },
  {
   "cell_type": "markdown",
   "metadata": {},
   "source": [
    "## 1. 从HuggingFace Hub加载数据集"
   ]
  },
  {
   "cell_type": "code",
   "execution_count": 20,
   "metadata": {},
   "outputs": [],
   "source": [
    "from datasets import load_dataset\n",
    "\n",
    "# Login using e.g. `huggingface-cli login` to access this dataset\n",
    "megabench_core_dataset = load_dataset(\"TIGER-Lab/MEGA-Bench\", \"core\")"
   ]
  },
  {
   "cell_type": "code",
   "execution_count": 21,
   "metadata": {},
   "outputs": [
    {
     "name": "stdout",
     "output_type": "stream",
     "text": [
      "DatasetDict({\n",
      "    test: Dataset({\n",
      "        features: ['id', 'task_name', 'task_description', 'global_media', 'example_text', 'example_media', 'query_text', 'query_media', 'answer', 'metric_info', 'eval_context', 'taxonomy_tree_path', 'application', 'input_format', 'output_format'],\n",
      "        num_rows: 6531\n",
      "    })\n",
      "})\n"
     ]
    }
   ],
   "source": [
    "from pprint import pprint\n",
    "pprint(megabench_core_dataset)"
   ]
  },
  {
   "cell_type": "markdown",
   "metadata": {},
   "source": [
    "## 2. 加载远程服务器上的数据集"
   ]
  },
  {
   "cell_type": "code",
   "execution_count": 30,
   "metadata": {},
   "outputs": [
    {
     "name": "stdout",
     "output_type": "stream",
     "text": [
      "DatasetDict({\n",
      "    test: Dataset({\n",
      "        features: ['id', 'task_name', 'task_description', 'global_media', 'example_text', 'example_media', 'query_text', 'query_media', 'answer', 'metric_info', 'eval_context', 'taxonomy_tree_path', 'application', 'input_format', 'output_format'],\n",
      "        num_rows: 6531\n",
      "    })\n",
      "})\n"
     ]
    }
   ],
   "source": [
    "url = \"https://huggingface.co/datasets/TIGER-Lab/MEGA-Bench/resolve/main/core/\"\n",
    "data_files = {\n",
    "    \"test\": url + \"test-00000-of-00001.parquet\",\n",
    "}\n",
    "megabench_core_dataset = load_dataset(path=\"parquet\", data_files=data_files)\n",
    "pprint(megabench_core_dataset)"
   ]
  },
  {
   "cell_type": "markdown",
   "metadata": {},
   "source": [
    "## 3. 加载本地的数据集"
   ]
  },
  {
   "cell_type": "code",
   "execution_count": 31,
   "metadata": {},
   "outputs": [
    {
     "name": "stderr",
     "output_type": "stream",
     "text": [
      "Generating train split: 6531 examples [00:00, 120915.30 examples/s]"
     ]
    },
    {
     "name": "stdout",
     "output_type": "stream",
     "text": [
      "DatasetDict({\n",
      "    train: Dataset({\n",
      "        features: ['id', 'task_name', 'task_description', 'global_media', 'example_text', 'example_media', 'query_text', 'query_media', 'answer', 'metric_info', 'eval_context', 'taxonomy_tree_path', 'application', 'input_format', 'output_format'],\n",
      "        num_rows: 6531\n",
      "    })\n",
      "})\n"
     ]
    },
    {
     "name": "stderr",
     "output_type": "stream",
     "text": [
      "\n"
     ]
    }
   ],
   "source": [
    "data_files = \"./megabench_core_test.parquet\"\n",
    "megabench_core_dataset = load_dataset(\"parquet\", data_files=data_files)\n",
    "pprint(megabench_core_dataset)"
   ]
  }
 ],
 "metadata": {
  "kernelspec": {
   "display_name": "llm",
   "language": "python",
   "name": "python3"
  },
  "language_info": {
   "codemirror_mode": {
    "name": "ipython",
    "version": 3
   },
   "file_extension": ".py",
   "mimetype": "text/x-python",
   "name": "python",
   "nbconvert_exporter": "python",
   "pygments_lexer": "ipython3",
   "version": "3.12.10"
  }
 },
 "nbformat": 4,
 "nbformat_minor": 2
}
