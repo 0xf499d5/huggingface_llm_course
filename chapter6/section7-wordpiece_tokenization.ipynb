{
 "cells": [
  {
   "cell_type": "markdown",
   "id": "048ea33a",
   "metadata": {},
   "source": [
    "# WordPiece Tokenization"
   ]
  },
  {
   "cell_type": "markdown",
   "id": "d2aad838",
   "metadata": {},
   "source": [
    "## 1 语料库"
   ]
  },
  {
   "cell_type": "code",
   "execution_count": 126,
   "id": "586a85a1",
   "metadata": {},
   "outputs": [],
   "source": [
    "corpus = [\n",
    "    \"This is the Hugging Face Course.\",\n",
    "    \"This chapter is about tokenization.\",\n",
    "    \"This section shows several tokenizer algorithms.\",\n",
    "    \"Hopefully, you will be able to understand how they are trained and generate tokens.\",\n",
    "]"
   ]
  },
  {
   "cell_type": "markdown",
   "id": "a20eb12e",
   "metadata": {},
   "source": [
    "## 2 预分词"
   ]
  },
  {
   "cell_type": "markdown",
   "id": "e84afe69",
   "metadata": {},
   "source": [
    "WordPiece分词算法是Google为预训练BERT模型而开发的，由于我们将会手撸一个WordPiece分词器，所以我们首先需要引入`bert-base-cased`预训练模型对应的分词器来预分词。"
   ]
  },
  {
   "cell_type": "code",
   "execution_count": 127,
   "id": "df9a9a83",
   "metadata": {},
   "outputs": [],
   "source": [
    "from transformers import AutoTokenizer\n",
    "\n",
    "tokenizer = AutoTokenizer.from_pretrained(\"bert-base-cased\")"
   ]
  },
  {
   "cell_type": "code",
   "execution_count": 128,
   "id": "2ac2f913",
   "metadata": {},
   "outputs": [
    {
     "data": {
      "text/plain": [
       "['This',\n",
       " 'is',\n",
       " 'the',\n",
       " 'Hugging',\n",
       " 'Face',\n",
       " 'Course',\n",
       " '.',\n",
       " 'This',\n",
       " 'chapter',\n",
       " 'is']"
      ]
     },
     "execution_count": 128,
     "metadata": {},
     "output_type": "execute_result"
    }
   ],
   "source": [
    "words = []\n",
    "for sent in corpus:\n",
    "    for word, _ in tokenizer.backend_tokenizer.pre_tokenizer.pre_tokenize_str(sent):\n",
    "        words.append(word)\n",
    "words[:10]"
   ]
  },
  {
   "cell_type": "markdown",
   "id": "bd2238ba",
   "metadata": {},
   "source": [
    "## 3 统计词频"
   ]
  },
  {
   "cell_type": "code",
   "execution_count": 129,
   "id": "c06b7141",
   "metadata": {},
   "outputs": [
    {
     "data": {
      "text/plain": [
       "defaultdict(int,\n",
       "            {'This': 3,\n",
       "             'is': 2,\n",
       "             'the': 1,\n",
       "             'Hugging': 1,\n",
       "             'Face': 1,\n",
       "             'Course': 1,\n",
       "             '.': 4,\n",
       "             'chapter': 1,\n",
       "             'about': 1,\n",
       "             'tokenization': 1,\n",
       "             'section': 1,\n",
       "             'shows': 1,\n",
       "             'several': 1,\n",
       "             'tokenizer': 1,\n",
       "             'algorithms': 1,\n",
       "             'Hopefully': 1,\n",
       "             ',': 1,\n",
       "             'you': 1,\n",
       "             'will': 1,\n",
       "             'be': 1,\n",
       "             'able': 1,\n",
       "             'to': 1,\n",
       "             'understand': 1,\n",
       "             'how': 1,\n",
       "             'they': 1,\n",
       "             'are': 1,\n",
       "             'trained': 1,\n",
       "             'and': 1,\n",
       "             'generate': 1,\n",
       "             'tokens': 1})"
      ]
     },
     "execution_count": 129,
     "metadata": {},
     "output_type": "execute_result"
    }
   ],
   "source": [
    "from collections import defaultdict\n",
    "\n",
    "word_freqs = defaultdict(int)\n",
    "for word in words:\n",
    "    word_freqs[word] += 1\n",
    "word_freqs"
   ]
  },
  {
   "cell_type": "markdown",
   "id": "d98bd7db",
   "metadata": {},
   "source": [
    "## 4 初始化词汇表"
   ]
  },
  {
   "cell_type": "markdown",
   "id": "d6d156a4",
   "metadata": {},
   "source": [
    "按照WordPiece的规定，初始的词汇表是由语料库中所有单词的首字母集合、所有以“##”前缀标记的词内字母集合构成的以及所有BERT模型指定的所有特殊字符集合构成的："
   ]
  },
  {
   "cell_type": "code",
   "execution_count": 130,
   "id": "71bd15ad",
   "metadata": {},
   "outputs": [
    {
     "data": {
      "text/plain": [
       "['##a',\n",
       " '##b',\n",
       " '##c',\n",
       " '##d',\n",
       " '##e',\n",
       " '##f',\n",
       " '##g',\n",
       " '##h',\n",
       " '##i',\n",
       " '##k',\n",
       " '##l',\n",
       " '##m',\n",
       " '##n',\n",
       " '##o',\n",
       " '##p',\n",
       " '##r',\n",
       " '##s',\n",
       " '##t',\n",
       " '##u',\n",
       " '##v',\n",
       " '##w',\n",
       " '##y',\n",
       " '##z',\n",
       " ',',\n",
       " '.',\n",
       " 'C',\n",
       " 'F',\n",
       " 'H',\n",
       " 'T',\n",
       " 'a',\n",
       " 'b',\n",
       " 'c',\n",
       " 'g',\n",
       " 'h',\n",
       " 'i',\n",
       " 's',\n",
       " 't',\n",
       " 'u',\n",
       " 'w',\n",
       " 'y']"
      ]
     },
     "execution_count": 130,
     "metadata": {},
     "output_type": "execute_result"
    }
   ],
   "source": [
    "alphabet = []\n",
    "chars = set()\n",
    "\n",
    "for word in words:\n",
    "    if word[0] not in chars:\n",
    "        chars.add(word[0])\n",
    "        alphabet.append(word[0])\n",
    "    for c in word[1:]:\n",
    "        pc = f\"##{c}\"  # c with prefix\n",
    "        if pc not in chars:\n",
    "            chars.add(pc)\n",
    "            alphabet.append(pc)\n",
    "\n",
    "alphabet.sort()\n",
    "alphabet"
   ]
  },
  {
   "cell_type": "code",
   "execution_count": 131,
   "id": "0d24ccc6",
   "metadata": {},
   "outputs": [],
   "source": [
    "special_tokens = [\"[PAD]\", \"[UNK]\", \"[CLS]\", \"[SEP]\", \"[MASK]\"]"
   ]
  },
  {
   "cell_type": "code",
   "execution_count": 132,
   "id": "0f85f0c2",
   "metadata": {},
   "outputs": [
    {
     "data": {
      "text/plain": [
       "['[PAD]',\n",
       " '[UNK]',\n",
       " '[CLS]',\n",
       " '[SEP]',\n",
       " '[MASK]',\n",
       " '##a',\n",
       " '##b',\n",
       " '##c',\n",
       " '##d',\n",
       " '##e']"
      ]
     },
     "execution_count": 132,
     "metadata": {},
     "output_type": "execute_result"
    }
   ],
   "source": [
    "vocab = special_tokens + alphabet.copy()\n",
    "vocab[:10]"
   ]
  },
  {
   "cell_type": "markdown",
   "id": "23c2fcaf",
   "metadata": {},
   "source": [
    "## 5 分割单词\n",
    "\n",
    "接下来我们需要将语料库中的所有单词分割为首字母以及为非首字母都加上“##”前缀："
   ]
  },
  {
   "cell_type": "code",
   "execution_count": 133,
   "id": "97220e20",
   "metadata": {},
   "outputs": [
    {
     "data": {
      "text/plain": [
       "{'This': ['T', '##h', '##i', '##s'],\n",
       " 'is': ['i', '##s'],\n",
       " 'the': ['t', '##h', '##e'],\n",
       " 'Hugging': ['H', '##u', '##g', '##g', '##i', '##n', '##g'],\n",
       " 'Face': ['F', '##a', '##c', '##e'],\n",
       " 'Course': ['C', '##o', '##u', '##r', '##s', '##e'],\n",
       " '.': ['.'],\n",
       " 'chapter': ['c', '##h', '##a', '##p', '##t', '##e', '##r'],\n",
       " 'about': ['a', '##b', '##o', '##u', '##t'],\n",
       " 'tokenization': ['t',\n",
       "  '##o',\n",
       "  '##k',\n",
       "  '##e',\n",
       "  '##n',\n",
       "  '##i',\n",
       "  '##z',\n",
       "  '##a',\n",
       "  '##t',\n",
       "  '##i',\n",
       "  '##o',\n",
       "  '##n'],\n",
       " 'section': ['s', '##e', '##c', '##t', '##i', '##o', '##n'],\n",
       " 'shows': ['s', '##h', '##o', '##w', '##s'],\n",
       " 'several': ['s', '##e', '##v', '##e', '##r', '##a', '##l'],\n",
       " 'tokenizer': ['t', '##o', '##k', '##e', '##n', '##i', '##z', '##e', '##r'],\n",
       " 'algorithms': ['a',\n",
       "  '##l',\n",
       "  '##g',\n",
       "  '##o',\n",
       "  '##r',\n",
       "  '##i',\n",
       "  '##t',\n",
       "  '##h',\n",
       "  '##m',\n",
       "  '##s'],\n",
       " 'Hopefully': ['H', '##o', '##p', '##e', '##f', '##u', '##l', '##l', '##y'],\n",
       " ',': [','],\n",
       " 'you': ['y', '##o', '##u'],\n",
       " 'will': ['w', '##i', '##l', '##l'],\n",
       " 'be': ['b', '##e'],\n",
       " 'able': ['a', '##b', '##l', '##e'],\n",
       " 'to': ['t', '##o'],\n",
       " 'understand': ['u',\n",
       "  '##n',\n",
       "  '##d',\n",
       "  '##e',\n",
       "  '##r',\n",
       "  '##s',\n",
       "  '##t',\n",
       "  '##a',\n",
       "  '##n',\n",
       "  '##d'],\n",
       " 'how': ['h', '##o', '##w'],\n",
       " 'they': ['t', '##h', '##e', '##y'],\n",
       " 'are': ['a', '##r', '##e'],\n",
       " 'trained': ['t', '##r', '##a', '##i', '##n', '##e', '##d'],\n",
       " 'and': ['a', '##n', '##d'],\n",
       " 'generate': ['g', '##e', '##n', '##e', '##r', '##a', '##t', '##e'],\n",
       " 'tokens': ['t', '##o', '##k', '##e', '##n', '##s']}"
      ]
     },
     "execution_count": 133,
     "metadata": {},
     "output_type": "execute_result"
    }
   ],
   "source": [
    "splits = {\n",
    "    word: [word[i] if i == 0 else f\"##{c}\" for i, c in enumerate(word)]\n",
    "    for word in words\n",
    "}\n",
    "splits"
   ]
  },
  {
   "cell_type": "markdown",
   "id": "b8334f78",
   "metadata": {},
   "source": [
    "## 6 计算分数"
   ]
  },
  {
   "cell_type": "markdown",
   "id": "c3353a80",
   "metadata": {},
   "source": [
    "WordPiece合并相邻的字符对/子词对/词元对的依据是为每对字符/子词/词元计算一个分数：\n",
    "\n",
    "$$\n",
    "score = \\frac{freq\\_of\\_pair}{freq\\_of\\_first\\_element \\times freq\\_of\\_second\\_elements}\n",
    "$$\n",
    "\n",
    "然后，选取那些分数较大的Pair来进行合并。"
   ]
  },
  {
   "cell_type": "code",
   "execution_count": 134,
   "id": "4fdb44d5",
   "metadata": {},
   "outputs": [
    {
     "name": "stdout",
     "output_type": "stream",
     "text": [
      "This: ('T', '##h'), ('##h', '##i'), ('##i', '##s'), "
     ]
    }
   ],
   "source": [
    "def bigram():\n",
    "    for word, tokens in splits.items():\n",
    "        print(f\"{word}:\", end=\" \")\n",
    "        for i in range(len(tokens) - 1):\n",
    "            print(f\"{(tokens[i], tokens[i+1])}\", end=\", \")\n",
    "        break\n",
    "\n",
    "bigram()"
   ]
  },
  {
   "cell_type": "code",
   "execution_count": 135,
   "id": "faeafa7e",
   "metadata": {},
   "outputs": [],
   "source": [
    "def compute_scores(word_freqs, splits):\n",
    "    # 先统计各个字符的频率以及相邻Pair的频率：\n",
    "    char_freqs = defaultdict(int)\n",
    "    pair_freqs = defaultdict(int)\n",
    "    for word, freq in word_freqs.items():\n",
    "        split = splits[word]\n",
    "        if len(split) == 1:\n",
    "            char_freqs[split[0]] += freq\n",
    "        else:\n",
    "            for i in range(len(split) - 1):\n",
    "                pair = (split[i], split[i+1])\n",
    "                pair_freqs[pair] += freq\n",
    "                char_freqs[split[i]] += freq\n",
    "            char_freqs[split[-1]] += freq\n",
    "    # 然后计算各个Pair的分数：\n",
    "    scores = {\n",
    "        pair: freq / (char_freqs[pair[0]] * char_freqs[pair[1]])\n",
    "        for pair, freq in pair_freqs.items()\n",
    "    }\n",
    "    return scores"
   ]
  },
  {
   "cell_type": "code",
   "execution_count": 136,
   "id": "a3be52dc",
   "metadata": {},
   "outputs": [
    {
     "name": "stdout",
     "output_type": "stream",
     "text": [
      "('T', '##h'): 0.125\n",
      "('##h', '##i'): 0.03409090909090909\n",
      "('##i', '##s'): 0.02727272727272727\n",
      "('i', '##s'): 0.1\n",
      "('t', '##h'): 0.03571428571428571\n",
      "('##h', '##e'): 0.011904761904761904\n"
     ]
    }
   ],
   "source": [
    "scores = compute_scores(word_freqs, splits)\n",
    "for i, key in enumerate(scores.keys()):\n",
    "    print(f\"{key}: {scores[key]}\")\n",
    "    if i == 5:\n",
    "        break"
   ]
  },
  {
   "cell_type": "markdown",
   "id": "3dbffb7f",
   "metadata": {},
   "source": [
    "## 7 合并子词"
   ]
  },
  {
   "cell_type": "code",
   "execution_count": 137,
   "id": "215ba032",
   "metadata": {},
   "outputs": [],
   "source": [
    "# def merge_pair(first, second, splits):\n",
    "#     for word, split in splits.items():\n",
    "#         if len(split) == 1:\n",
    "#             continue\n",
    "#         i = 0\n",
    "#         while i < len(split) - 1:\n",
    "#             if split[i] == first and split[i+1] == second:\n",
    "#                 pair = first + second[2:] if second.startswith(\"##\") else first + second\n",
    "#                 split = split[:i] + [pair] + split[i+2:]\n",
    "#             else:\n",
    "#                 i += 1\n",
    "#         splits[word] = split\n",
    "\n",
    "def merge_pair(first, second, splits):\n",
    "    for word, split in splits.items():\n",
    "        if len(split) == 1:\n",
    "            continue\n",
    "        i = 0\n",
    "        new_split = split.copy()\n",
    "        while i < len(split) - 1:\n",
    "            if split[i] == first and split[i+1] == second:\n",
    "                pair = first + second[2:] if second.startswith(\"##\") else first + second\n",
    "                new_split = split[:i] + [pair] + split[i+2:]\n",
    "                i += 2\n",
    "            else:\n",
    "                i += 1\n",
    "        splits[word] = new_split"
   ]
  },
  {
   "cell_type": "code",
   "execution_count": 138,
   "id": "a88e7dbd",
   "metadata": {},
   "outputs": [
    {
     "data": {
      "text/plain": [
       "['ab', '##o', '##u', '##t']"
      ]
     },
     "execution_count": 138,
     "metadata": {},
     "output_type": "execute_result"
    }
   ],
   "source": [
    "merge_pair(\"a\", \"##b\", splits)\n",
    "splits[\"about\"]"
   ]
  },
  {
   "cell_type": "code",
   "execution_count": 139,
   "id": "9de24b64",
   "metadata": {},
   "outputs": [],
   "source": [
    "def merge_pair_v2(first, second, splits):\n",
    "    for word, split in splits.items():\n",
    "        if len(split) == 1:\n",
    "            continue\n",
    "        i = 0\n",
    "        while i < len(split) - 1:\n",
    "            if split[i] == first and split[i+1] == second:\n",
    "                pair = first + second[2:] if second.startswith(\"##\") else first + second\n",
    "                new_split = split[:i] + [pair] + split[i+2:]\n",
    "                i += 2\n",
    "            else:\n",
    "                i += 1\n",
    "        splits[word] = new_split"
   ]
  },
  {
   "cell_type": "code",
   "execution_count": 140,
   "id": "27dfd36b",
   "metadata": {},
   "outputs": [
    {
     "data": {
      "text/plain": [
       "['ab', '##o', '##ut']"
      ]
     },
     "execution_count": 140,
     "metadata": {},
     "output_type": "execute_result"
    }
   ],
   "source": [
    "from copy import deepcopy\n",
    "\n",
    "splits_copyed = deepcopy(splits)\n",
    "merge_pair(\"##u\", \"##t\", splits_copyed)\n",
    "splits_copyed[\"about\"]"
   ]
  },
  {
   "cell_type": "markdown",
   "id": "e141b3a0",
   "metadata": {},
   "source": [
    "## 8 训练"
   ]
  },
  {
   "cell_type": "markdown",
   "id": "612f6570",
   "metadata": {},
   "source": [
    "找到最大分数的Pair："
   ]
  },
  {
   "cell_type": "code",
   "execution_count": 141,
   "id": "698c26b2",
   "metadata": {},
   "outputs": [
    {
     "data": {
      "text/plain": [
       "[(('a', '##b'), 0.2),\n",
       " (('##f', '##u'), 0.2),\n",
       " (('F', '##a'), 0.14285714285714285),\n",
       " (('T', '##h'), 0.125),\n",
       " (('c', '##h'), 0.125)]"
      ]
     },
     "execution_count": 141,
     "metadata": {},
     "output_type": "execute_result"
    }
   ],
   "source": [
    "sorted_scores = sorted(scores.items(), key=lambda x: x[-1], reverse=True)\n",
    "sorted_scores[:5]\n"
   ]
  },
  {
   "cell_type": "code",
   "execution_count": 142,
   "id": "5e42e638",
   "metadata": {},
   "outputs": [],
   "source": [
    "vocab.append(\"ab\")"
   ]
  },
  {
   "cell_type": "code",
   "execution_count": 143,
   "id": "f2242554",
   "metadata": {},
   "outputs": [],
   "source": [
    "vocab_size = 70\n",
    "while len(vocab) < vocab_size:\n",
    "    scores = compute_scores(word_freqs, splits)\n",
    "    sorted_scores = sorted(scores.items(), key=lambda x: x[-1], reverse=True)\n",
    "    best = sorted_scores[0]\n",
    "    pair, _ = best\n",
    "    merge_pair(*pair, splits)\n",
    "    token = pair[0] + pair[1][2:] if pair[1].startswith(\"##\") else pair[0] + pair[1]\n",
    "    vocab.append(token)"
   ]
  },
  {
   "cell_type": "code",
   "execution_count": 144,
   "id": "dab5842a",
   "metadata": {},
   "outputs": [],
   "source": [
    "expected = ['[PAD]', '[UNK]', '[CLS]', '[SEP]', '[MASK]', '##a', '##b', '##c', '##d', '##e', '##f', '##g', '##h', '##i', '##k',\n",
    " '##l', '##m', '##n', '##o', '##p', '##r', '##s', '##t', '##u', '##v', '##w', '##y', '##z', ',', '.', 'C', 'F', 'H',\n",
    " 'T', 'a', 'b', 'c', 'g', 'h', 'i', 's', 't', 'u', 'w', 'y', 'ab', '##fu', 'Fa', 'Fac', '##ct', '##ful', '##full', '##fully',\n",
    " 'Th', 'ch', '##hm', 'cha', 'chap', 'chapt', '##thm', 'Hu', 'Hug', 'Hugg', 'sh', 'th', 'is', '##thms', '##za', '##zat',\n",
    " '##ut']"
   ]
  },
  {
   "cell_type": "code",
   "execution_count": 145,
   "id": "c0e04f0a",
   "metadata": {},
   "outputs": [
    {
     "name": "stdout",
     "output_type": "stream",
     "text": [
      "actual vocab is equal to the expected!\n"
     ]
    }
   ],
   "source": [
    "try:\n",
    "    assert vocab == expected\n",
    "except AssertionError:\n",
    "    print(f\"len of vocab: {len(vocab)}\")\n",
    "    print(f\"len of expected: {len(expected)}\")\n",
    "    s1 = set(vocab)\n",
    "    s2 = set(expected)\n",
    "    print(f\"diff between vocab and expected: {s1.difference(s2)}\")\n",
    "    print(f\"diff between expected and vocab: {s2.difference(s1)}\")\n",
    "else:\n",
    "    print(f\"actual vocab is equal to the expected!\")"
   ]
  },
  {
   "cell_type": "code",
   "execution_count": 146,
   "id": "5b44761b",
   "metadata": {},
   "outputs": [],
   "source": [
    "if vocab != expected:\n",
    "    \"ab\" not in s1 and \"##ta\" not in s2"
   ]
  },
  {
   "cell_type": "markdown",
   "id": "32ab6d66",
   "metadata": {},
   "source": [
    "## 9 分词"
   ]
  },
  {
   "cell_type": "code",
   "execution_count": 147,
   "id": "a5fd5be4",
   "metadata": {},
   "outputs": [],
   "source": [
    "def encode(word, vocab_set):\n",
    "    tokens = []\n",
    "    while len(word) > 0:\n",
    "        end = len(word)\n",
    "        while end > 0 and word[:end] not in vocab_set:\n",
    "            end -= 1\n",
    "        if end == 0:\n",
    "            # tokens.append(\"[UNK]\")\n",
    "            tokens = [\"[UNK]\"]\n",
    "            break\n",
    "        # if word[:end] in vocab_set:\n",
    "        tokens.append(word[:end])\n",
    "        word = word[end:]\n",
    "        if len(word) > 0:\n",
    "            word = f\"##{word}\"\n",
    "    return tokens"
   ]
  },
  {
   "cell_type": "code",
   "execution_count": 148,
   "id": "971d9d62",
   "metadata": {},
   "outputs": [
    {
     "name": "stdout",
     "output_type": "stream",
     "text": [
      "['Hugg', '##i', '##n', '##g']\n",
      "['[UNK]']\n"
     ]
    }
   ],
   "source": [
    "vocab_set = set(vocab)\n",
    "print(encode(\"Hugging\", vocab_set))\n",
    "print(encode(\"HOgging\", vocab_set))"
   ]
  },
  {
   "cell_type": "code",
   "execution_count": 149,
   "id": "ba831ef7",
   "metadata": {},
   "outputs": [],
   "source": [
    "def tokenize(text):\n",
    "    tokens = []\n",
    "    for word, _ in tokenizer.backend_tokenizer.pre_tokenizer.pre_tokenize_str(text):\n",
    "        token = encode(word, vocab_set)\n",
    "        tokens.extend(token)\n",
    "    return tokens"
   ]
  },
  {
   "cell_type": "code",
   "execution_count": 150,
   "id": "60620bd9",
   "metadata": {},
   "outputs": [
    {
     "data": {
      "text/plain": [
       "['Th',\n",
       " '##i',\n",
       " '##s',\n",
       " 'is',\n",
       " 'th',\n",
       " '##e',\n",
       " 'Hugg',\n",
       " '##i',\n",
       " '##n',\n",
       " '##g',\n",
       " 'Fac',\n",
       " '##e',\n",
       " 'c',\n",
       " '##o',\n",
       " '##u',\n",
       " '##r',\n",
       " '##s',\n",
       " '##e',\n",
       " '[UNK]']"
      ]
     },
     "execution_count": 150,
     "metadata": {},
     "output_type": "execute_result"
    }
   ],
   "source": [
    "actual = tokenize(\"This is the Hugging Face course!\")\n",
    "actual"
   ]
  },
  {
   "cell_type": "code",
   "execution_count": 151,
   "id": "741ec54d",
   "metadata": {},
   "outputs": [],
   "source": [
    "expected = ['Th', '##i', '##s', 'is', 'th', '##e', 'Hugg', '##i', '##n', '##g', 'Fac', '##e', 'c', '##o', '##u', '##r', '##s',\n",
    " '##e', '[UNK]']"
   ]
  },
  {
   "cell_type": "code",
   "execution_count": 152,
   "id": "aeea7402",
   "metadata": {},
   "outputs": [],
   "source": [
    "assert actual == expected"
   ]
  }
 ],
 "metadata": {
  "kernelspec": {
   "display_name": "llm",
   "language": "python",
   "name": "python3"
  },
  "language_info": {
   "codemirror_mode": {
    "name": "ipython",
    "version": 3
   },
   "file_extension": ".py",
   "mimetype": "text/x-python",
   "name": "python",
   "nbconvert_exporter": "python",
   "pygments_lexer": "ipython3",
   "version": "3.12.10"
  }
 },
 "nbformat": 4,
 "nbformat_minor": 5
}
